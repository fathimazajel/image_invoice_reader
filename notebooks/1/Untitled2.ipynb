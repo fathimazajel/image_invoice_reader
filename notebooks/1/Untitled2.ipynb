{
 "cells": [
  {
   "cell_type": "code",
   "execution_count": 3,
   "id": "1848e576",
   "metadata": {},
   "outputs": [],
   "source": [
    "# Python Variables (Equivalent of the shell's export command)\n",
    "MODEL_NAME = 'ft_SROIE'\n",
    "SAVE_PATH = '/path/to/save/' + MODEL_NAME\n",
    "LOG_DIR = 'log_' + MODEL_NAME\n",
    "DATA = '/Users/fathimazajel/Documents/GitHub/image_invoice_reader2/img'\n",
    "BSZ = 16\n",
    "valid_BSZ = 16\n"
   ]
  },
  {
   "cell_type": "code",
   "execution_count": 4,
   "id": "c9fc1c5e",
   "metadata": {},
   "outputs": [],
   "source": [
    "# Shell Commands (Creating a directory)\n",
    "!mkdir {LOG_DIR}\n"
   ]
  },
  {
   "cell_type": "code",
   "execution_count": 1,
   "id": "0dccc74b",
   "metadata": {},
   "outputs": [
    {
     "name": "stdout",
     "output_type": "stream",
     "text": [
      "/Users/fathimazajel/opt/anaconda3/bin/python: Error while finding module specification for 'torch.distributed.launch' (ModuleNotFoundError: No module named 'torch')\r\n"
     ]
    }
   ],
   "source": [
    "# Running the Training Command\n",
    "!CUDA_VISIBLE_DEVICES=0,1,2,3,4,5,6,7 python -m torch.distributed.launch --nproc_per_node=8 \\\n",
    "    $(which fairseq-train) \\\n",
    "    --data-type SROIE --user-dir ./ --task text_recognition --input-size 384 \\\n",
    "    --arch trocr_large \\\n",
    "    --seed 1111 --optimizer adam --lr 5e-05 --lr-scheduler inverse_sqrt \\\n",
    "    --warmup-init-lr 1e-8 --warmup-updates 800 --weight-decay 0.0001 --log-format tqdm \\\n",
    "    --log-interval 10 --batch-size {BSZ} --batch-size-valid {valid_BSZ} \\\n",
    "    --save-dir {SAVE_PATH} --tensorboard-logdir {LOG_DIR} --max-epoch 300 \\\n",
    "    --patience 10 --ddp-backend legacy_ddp --num-workers 10 --preprocess DA2 \\\n",
    "    --bpe gpt2 --decoder-pretrained roberta2 \\\n",
    "    --update-freq 16 --finetune-from-model /path/to/model --fp16 \\\n",
    "    {DATA}\n"
   ]
  },
  {
   "cell_type": "code",
   "execution_count": null,
   "id": "9595a134",
   "metadata": {},
   "outputs": [],
   "source": []
  }
 ],
 "metadata": {
  "kernelspec": {
   "display_name": "Python 3 (ipykernel)",
   "language": "python",
   "name": "python3"
  },
  "language_info": {
   "codemirror_mode": {
    "name": "ipython",
    "version": 3
   },
   "file_extension": ".py",
   "mimetype": "text/x-python",
   "name": "python",
   "nbconvert_exporter": "python",
   "pygments_lexer": "ipython3",
   "version": "3.9.12"
  }
 },
 "nbformat": 4,
 "nbformat_minor": 5
}
