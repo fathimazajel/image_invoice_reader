{
 "cells": [
  {
   "cell_type": "code",
   "execution_count": 5,
   "id": "b2691aa5",
   "metadata": {},
   "outputs": [
    {
     "name": "stdout",
     "output_type": "stream",
     "text": [
      "Dimensions of the dataset: (45279, 15)\n",
      "           Filename Column_1 Column_2 Column_3 Column_4 Column_5 Column_6  \\\n",
      "0  X51006555072.txt      106      179      502      179      502      204   \n",
      "1  X51006555072.txt      239      205      364      205      364      231   \n",
      "2  X51006555072.txt       80      229      539      229      539      256   \n",
      "3  X51006555072.txt       98      255      499      255      499      280   \n",
      "4  X51006555072.txt      172      278      429      278      429      307   \n",
      "5  X51006555072.txt      247      305      350      305      350      328   \n",
      "6  X51006555072.txt      236      354      375      354      375      380   \n",
      "7  X51006555072.txt       72      380      261      380      261      406   \n",
      "8  X51006555072.txt      335      381      490      381      490      405   \n",
      "9  X51006555072.txt       48      429      177      429      177      451   \n",
      "\n",
      "  Column_7 Column_8                         Column_9  \\\n",
      "0      106      204  DIGI TELECOMMUNICATIONS SDN BHD   \n",
      "1      239      231                       (201283-M)   \n",
      "2       80      256                       LOT LG 315   \n",
      "3       98      280  LEBUH BANDAR UTAMA-BANDAR UTAMA   \n",
      "4      172      307                    PETALING JAYA   \n",
      "5      247      328                         SELANGOR   \n",
      "6      236      380                      TAX INVOICE   \n",
      "7       72      406                  GST REG NUMBER:   \n",
      "8      335      405                     001211957248   \n",
      "9       48      451                       13/10/2017   \n",
      "\n",
      "                  Column_10 Column_11 Column_12 Column_13 Column_14  \n",
      "0                      None      None      None      None      None  \n",
      "1                      None      None      None      None      None  \n",
      "2   1-UTAMA SHOPPING CENTRE                None      None      None  \n",
      "3                                None      None      None      None  \n",
      "4                     47800      None      None      None      None  \n",
      "5                      None      None      None      None      None  \n",
      "6                      None      None      None      None      None  \n",
      "7                      None      None      None      None      None  \n",
      "8                      None      None      None      None      None  \n",
      "9                      None      None      None      None      None  \n"
     ]
    }
   ],
   "source": [
    "import os\n",
    "import pandas as pd\n",
    "\n",
    "folder_path = \"/Users/fathimazajel/Desktop/image_invoice_processing_data/SROIE2019/0325updated.task1train(626p)\"\n",
    "\n",
    "# List all the .txt files in the given folder path\n",
    "txt_files = [file for file in os.listdir(folder_path) if file.endswith('.txt')]\n",
    "\n",
    "data = []\n",
    "\n",
    "# Iterate over each .txt file and extract its content\n",
    "for txt_file in txt_files:\n",
    "    with open(os.path.join(folder_path, txt_file), 'r') as f:\n",
    "        lines = f.readlines()\n",
    "        \n",
    "        for line in lines:\n",
    "            # Append filename and its line content to the data list\n",
    "            data.append([txt_file] + line.strip().split(','))\n",
    "\n",
    "# Identify the max number of columns based on the longest row\n",
    "max_columns = max(len(row) for row in data)\n",
    "\n",
    "# Create column names dynamically based on the max number of columns\n",
    "columns = ['Filename'] + [f'Column_{i}' for i in range(1, max_columns)]\n",
    "\n",
    "# Convert the data list into a pandas DataFrame\n",
    "df = pd.DataFrame(data, columns=columns)\n",
    "\n",
    "# Print the dimensions of the DataFrame\n",
    "print(f\"Dimensions of the dataset: {df.shape}\")\n",
    "\n",
    "# Display the first 10 rows of the DataFrame\n",
    "print(df.head(10))\n"
   ]
  },
  {
   "cell_type": "code",
   "execution_count": 6,
   "id": "ef9f9e8d",
   "metadata": {},
   "outputs": [
    {
     "name": "stdout",
     "output_type": "stream",
     "text": [
      "Requirement already satisfied: openpyxl in /Users/fathimazajel/opt/anaconda3/lib/python3.9/site-packages (3.0.9)\n",
      "Requirement already satisfied: et-xmlfile in /Users/fathimazajel/opt/anaconda3/lib/python3.9/site-packages (from openpyxl) (1.1.0)\n",
      "Note: you may need to restart the kernel to use updated packages.\n"
     ]
    }
   ],
   "source": [
    "pip install openpyxl\n"
   ]
  },
  {
   "cell_type": "code",
   "execution_count": 9,
   "id": "67bc98c8",
   "metadata": {},
   "outputs": [
    {
     "name": "stdout",
     "output_type": "stream",
     "text": [
      "Data saved to /Users/fathimazajel/Desktop/image_invoice_processing_data/SROIE2019/combined_data.csv\n"
     ]
    }
   ],
   "source": [
    "\n",
    "\n",
    "# Save the DataFrame to a CSV file\n",
    "output_path = \"/Users/fathimazajel/Desktop/image_invoice_processing_data/SROIE2019/combined_data.csv\"\n",
    "df.to_csv(output_path, index=False)\n",
    "\n",
    "print(f\"Data saved to {output_path}\")\n"
   ]
  },
  {
   "cell_type": "code",
   "execution_count": null,
   "id": "58101c17",
   "metadata": {},
   "outputs": [],
   "source": []
  }
 ],
 "metadata": {
  "kernelspec": {
   "display_name": "Python 3 (ipykernel)",
   "language": "python",
   "name": "python3"
  },
  "language_info": {
   "codemirror_mode": {
    "name": "ipython",
    "version": 3
   },
   "file_extension": ".py",
   "mimetype": "text/x-python",
   "name": "python",
   "nbconvert_exporter": "python",
   "pygments_lexer": "ipython3",
   "version": "3.9.12"
  }
 },
 "nbformat": 4,
 "nbformat_minor": 5
}
